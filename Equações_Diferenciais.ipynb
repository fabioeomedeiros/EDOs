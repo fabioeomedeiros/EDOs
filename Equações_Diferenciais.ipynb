{
  "nbformat": 4,
  "nbformat_minor": 0,
  "metadata": {
    "colab": {
      "name": "Equações-Diferenciais.ipynb",
      "provenance": [],
      "collapsed_sections": [],
      "authorship_tag": "ABX9TyMUB6hOSKIotkIxir1Eu4Vx",
      "include_colab_link": true
    },
    "kernelspec": {
      "name": "python3",
      "display_name": "Python 3"
    },
    "language_info": {
      "name": "python"
    }
  },
  "cells": [
    {
      "cell_type": "markdown",
      "metadata": {
        "id": "view-in-github",
        "colab_type": "text"
      },
      "source": [
        "<a href=\"https://colab.research.google.com/github/fabioeomedeiros/EDOs/blob/main/Equa%C3%A7%C3%B5es_Diferenciais.ipynb\" target=\"_parent\"><img src=\"https://colab.research.google.com/assets/colab-badge.svg\" alt=\"Open In Colab\"/></a>"
      ]
    },
    {
      "cell_type": "markdown",
      "metadata": {
        "id": "jCk-bUhdqC-X"
      },
      "source": [
        "# EQUAÇÕES DIFERÊNCIAIS ORDIÁRIAS"
      ]
    },
    {
      "cell_type": "code",
      "metadata": {
        "id": "hGKWuaK7U6l2"
      },
      "source": [
        "import numpy as np\n",
        "import matplotlib.pyplot as plt\n",
        "from scipy.integrate import solve_ivp\n",
        "\n",
        "\n",
        "#Saiba mais:\n",
        "#https://docs.scipy.org/doc/scipy/reference/tutorial/integrate.html\n",
        "#https://docs.scipy.org/doc/scipy/reference/reference/generated/scipy.integrate.solve_ivp.html\n",
        "#https://phet.colorado.edu/sims/html/masses-and-springs/latest/masses-and-springs_pt_BR.html\n",
        "\n"
      ],
      "execution_count": null,
      "outputs": []
    },
    {
      "cell_type": "markdown",
      "metadata": {
        "id": "IraGv4KPrWlt"
      },
      "source": [
        "## Modelando a Equação: \n",
        "$\\displaystyle \\frac{\\mathrm{d}^2 x(t)}{\\mathrm{d}^2 t} = -\\omega^2 x(t)$\n",
        "\n",
        "### Resolver duas equações diferenciais de 1º ordem\n",
        "Equações do problema físico: \n",
        "\n",
        "$\n",
        "\\left\\{\n",
        "\\begin{array}{l}\n",
        "    \\displaystyle \\frac{\\mathrm{d} x(t)}{\\mathrm{d}t} = v(t) \\\\\n",
        "    \\displaystyle \\frac{\\mathrm{d} v(t)}{\\mathrm{d}t} = -\\omega^2 x(t)\n",
        "\\end{array}\n",
        "\\right.\n",
        "$"
      ]
    },
    {
      "cell_type": "code",
      "metadata": {
        "id": "1qxq-8rFqNvo"
      },
      "source": [
        "def model(t, y, w0):\n",
        "    x = y[0] # array das posições\n",
        "    v = y[1] # array das velocidades\n",
        "    dxdt = v\n",
        "    dvdt = -w0**2 * x\n",
        "    return [dxdt, dvdt]"
      ],
      "execution_count": null,
      "outputs": []
    },
    {
      "cell_type": "markdown",
      "metadata": {
        "id": "G6K6ZofrwVtC"
      },
      "source": [
        "## Condições Iniciais"
      ]
    },
    {
      "cell_type": "code",
      "metadata": {
        "id": "4abJfPt_rSB2"
      },
      "source": [
        "x0 = 0.0 # posição inicial\n",
        "v0 = 1.0 # velocidade inicial\n",
        "y0 = [x0, v0] # list ou array das condições iniciais\n",
        "delta_t = (0,10) # 10 intervalos de tempo (qualquer unidade temporal)"
      ],
      "execution_count": null,
      "outputs": []
    },
    {
      "cell_type": "markdown",
      "metadata": {
        "id": "VC9qOZPm03c-"
      },
      "source": [
        "### Chamada para solução numérica"
      ]
    },
    {
      "cell_type": "code",
      "metadata": {
        "id": "c6G0umE7yUz8"
      },
      "source": [
        "solucao = solve_ivp(model, delta_t, y0, max_step=0.2, args=(1,))"
      ],
      "execution_count": null,
      "outputs": []
    },
    {
      "cell_type": "markdown",
      "metadata": {
        "id": "wlkmHlkk1CBU"
      },
      "source": [
        "### Elementos da variável :solucao"
      ]
    },
    {
      "cell_type": "code",
      "metadata": {
        "colab": {
          "base_uri": "https://localhost:8080/"
        },
        "id": "TQjuuPDE0zD-",
        "outputId": "1453e828-7b25-46b8-c1b3-c39749334646"
      },
      "source": [
        "print(solucao)"
      ],
      "execution_count": null,
      "outputs": [
        {
          "output_type": "stream",
          "name": "stdout",
          "text": [
            "  message: 'The solver successfully reached the end of the integration interval.'\n",
            "     nfev: 86\n",
            "     njev: 0\n",
            "      nlu: 0\n",
            "      sol: None\n",
            "   status: 0\n",
            "  success: True\n",
            "        t: array([0.00000000e+00, 9.99000999e-04, 1.09890110e-02, 1.10889111e-01,\n",
            "       7.60150558e-01, 1.69346562e+00, 2.68189213e+00, 3.66249862e+00,\n",
            "       4.57787220e+00, 5.57710241e+00, 6.53562405e+00, 7.50732249e+00,\n",
            "       8.49647637e+00, 9.42948990e+00, 1.00000000e+01])\n",
            " t_events: None\n",
            "        y: array([[ 0.00000000e+00,  9.99000833e-04,  1.09887898e-02,\n",
            "         1.10661995e-01,  6.89037713e-01,  9.92423098e-01,\n",
            "         4.43138753e-01, -4.98428062e-01, -9.91048308e-01,\n",
            "        -6.47700170e-01,  2.51430149e-01,  9.41118675e-01,\n",
            "         7.99102741e-01, -7.31642727e-03, -5.46146478e-01],\n",
            "       [ 1.00000000e+00,  9.99999501e-01,  9.99939621e-01,\n",
            "         9.93858100e-01,  7.24709764e-01, -1.22607648e-01,\n",
            "        -8.96412983e-01, -8.66881284e-01, -1.33005579e-01,\n",
            "         7.61809510e-01,  9.67792753e-01,  3.37808419e-01,\n",
            "        -6.01037671e-01, -9.99858424e-01, -8.37545242e-01]])\n",
            " y_events: None\n"
          ]
        }
      ]
    },
    {
      "cell_type": "code",
      "metadata": {
        "colab": {
          "base_uri": "https://localhost:8080/"
        },
        "id": "qet1Nbwb1T_a",
        "outputId": "2fd61414-2199-4784-de03-59c1b74d3819"
      },
      "source": [
        "print(solucao.t) # Instantes de tempo no intervao (0,10)"
      ],
      "execution_count": null,
      "outputs": [
        {
          "output_type": "stream",
          "name": "stdout",
          "text": [
            "[0.00000000e+00 9.99000999e-04 1.09890110e-02 1.10889111e-01\n",
            " 7.60150558e-01 1.69346562e+00 2.68189213e+00 3.66249862e+00\n",
            " 4.57787220e+00 5.57710241e+00 6.53562405e+00 7.50732249e+00\n",
            " 8.49647637e+00 9.42948990e+00 1.00000000e+01]\n"
          ]
        }
      ]
    },
    {
      "cell_type": "code",
      "metadata": {
        "colab": {
          "base_uri": "https://localhost:8080/"
        },
        "id": "eZVrjU822Dpc",
        "outputId": "179e8866-dce5-4e2a-a8c3-71225ffa3426"
      },
      "source": [
        "print(solucao.y[0]) # Posiçoes em função do tempo"
      ],
      "execution_count": null,
      "outputs": [
        {
          "output_type": "stream",
          "name": "stdout",
          "text": [
            "[ 0.          0.000999    0.01098879  0.11066199  0.68903771  0.9924231\n",
            "  0.44313875 -0.49842806 -0.99104831 -0.64770017  0.25143015  0.94111867\n",
            "  0.79910274 -0.00731643 -0.54614648]\n"
          ]
        }
      ]
    },
    {
      "cell_type": "code",
      "metadata": {
        "colab": {
          "base_uri": "https://localhost:8080/"
        },
        "id": "yz3OJKxy2PEc",
        "outputId": "59710624-e977-4154-b365-74afe37caf43"
      },
      "source": [
        "print(solucao.y[1]) # Velocidades em função do tempo"
      ],
      "execution_count": null,
      "outputs": [
        {
          "output_type": "stream",
          "name": "stdout",
          "text": [
            "[ 1.          0.9999995   0.99993962  0.9938581   0.72470976 -0.12260765\n",
            " -0.89641298 -0.86688128 -0.13300558  0.76180951  0.96779275  0.33780842\n",
            " -0.60103767 -0.99985842 -0.83754524]\n"
          ]
        }
      ]
    },
    {
      "cell_type": "markdown",
      "metadata": {
        "id": "ruWM8s-53OWv"
      },
      "source": [
        "## Evolução Temporal Graficamente"
      ]
    },
    {
      "cell_type": "markdown",
      "metadata": {
        "id": "EX04rjXh3_8h"
      },
      "source": [
        "### Posição em função do tempo"
      ]
    },
    {
      "cell_type": "code",
      "metadata": {
        "colab": {
          "base_uri": "https://localhost:8080/",
          "height": 282
        },
        "id": "69IwXKjE3Urd",
        "outputId": "b3025870-eb4a-438d-f8fc-0893bebbb1cb"
      },
      "source": [
        "print(plt.plot(solucao.t, solucao.y[0], marker='o', linestyle='')) # Posição em função do tempo"
      ],
      "execution_count": null,
      "outputs": [
        {
          "output_type": "stream",
          "name": "stdout",
          "text": [
            "[<matplotlib.lines.Line2D object at 0x7fb61eb2d090>]\n"
          ]
        },
        {
          "output_type": "display_data",
          "data": {
            "image/png": "[encoded data removed]",
            "text/plain": [
              "<Figure size 432x288 with 1 Axes>"
            ]
          },
          "metadata": {
            "needs_background": "light"
          }
        }
      ]
    },
    {
      "cell_type": "markdown",
      "metadata": {
        "id": "B8AfWbI84Ev6"
      },
      "source": [
        "### Velocidade em função do tempo"
      ]
    },
    {
      "cell_type": "code",
      "metadata": {
        "colab": {
          "base_uri": "https://localhost:8080/",
          "height": 282
        },
        "id": "h19Xqow03vc4",
        "outputId": "ecea240f-a85c-46d8-93e5-4dbf1eaf3924"
      },
      "source": [
        "print(plt.plot(solucao.t, solucao.y[1], marker='o', linestyle='')) # Velocidade em função do tempo"
      ],
      "execution_count": null,
      "outputs": [
        {
          "output_type": "stream",
          "name": "stdout",
          "text": [
            "[<matplotlib.lines.Line2D object at 0x7fb61ea98390>]\n"
          ]
        },
        {
          "output_type": "display_data",
          "data": {
            "image/png": "[encoded data removed]",
            "text/plain": [
              "<Figure size 432x288 with 1 Axes>"
            ]
          },
          "metadata": {
            "needs_background": "light"
          }
        }
      ]
    },
    {
      "cell_type": "code",
      "metadata": {
        "colab": {
          "base_uri": "https://localhost:8080/",
          "height": 317
        },
        "id": "5M-32UsnBGfn",
        "outputId": "76865cf3-c408-4e12-e6f9-9495723b4a0c"
      },
      "source": [
        "fig, ax = plt.subplots(1,2,figsize=(15,5))\n",
        "ax[0].plot(solucao.t, solucao.y[0], marker='o', linestyle='', label='numérico')\n",
        "ax[0].plot(solucao.t, np.sin(solucao.t), label='analítico')\n",
        "ax[0].legend()\n",
        "ax[1].plot(solucao.t, solucao.y[1], marker='o', linestyle='', label='numérico')\n",
        "ax[1].plot(solucao.t, np.sin(solucao.t), label='analítico')\n",
        "ax[1].legend()"
      ],
      "execution_count": null,
      "outputs": [
        {
          "output_type": "execute_result",
          "data": {
            "text/plain": [
              "<matplotlib.legend.Legend at 0x7fb61e4b1710>"
            ]
          },
          "metadata": {},
          "execution_count": 48
        },
        {
          "output_type": "display_data",
          "data": {
            "image/png": "[encoded data removed]",
            "text/plain": [
              "<Figure size 1080x360 with 2 Axes>"
            ]
          },
          "metadata": {
            "needs_background": "light"
          }
        }
      ]
    }
  ]
}